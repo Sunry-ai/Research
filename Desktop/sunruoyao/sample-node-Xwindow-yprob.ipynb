{
 "cells": [
  {
   "cell_type": "code",
   "execution_count": 1,
   "metadata": {},
   "outputs": [
    {
     "name": "stderr",
     "output_type": "stream",
     "text": [
      "/Users/sunruoyao/anaconda3/lib/python3.7/site-packages/pandas/compat/_optional.py:138: UserWarning: Pandas requires version '2.7.0' or newer of 'numexpr' (version '2.6.8' currently installed).\n",
      "  warnings.warn(msg, UserWarning)\n"
     ]
    }
   ],
   "source": [
    "import pandas as pd\n",
    "import os"
   ]
  },
  {
   "cell_type": "code",
   "execution_count": 5,
   "metadata": {},
   "outputs": [],
   "source": [
    "def read_file(folder_path):\n",
    "    X = pd.DataFrame()\n",
    "    \n",
    "    for filename in os.listdir(folder_path):\n",
    "        if filename.endswith('.csv'):  # 文件都是CSV格式的\n",
    "            file_path = os.path.join(folder_path, filename)\n",
    "\n",
    "            # 3. 从文件中读取数据\n",
    "            data = pd.read_csv(file_path)  # 根据文件格式选择合适的读取方法\n",
    "            X = pd.concat([X, data], ignore_index=True)  # 假设标签列为'y_label'\n",
    "            #y.extend(data['y_label'].tolist())\n",
    "    return X"
   ]
  },
  {
   "cell_type": "code",
   "execution_count": 6,
   "metadata": {},
   "outputs": [],
   "source": [
    "# folder_path = 'ip054_output_node/withH'  # 文件夹路径\n",
    "# data = read_file(folder_path)"
   ]
  },
  {
   "cell_type": "code",
   "execution_count": 7,
   "metadata": {},
   "outputs": [],
   "source": [
    "# data.to_csv('ip054_output_node/sample_merged.csv')"
   ]
  },
  {
   "cell_type": "markdown",
   "metadata": {},
   "source": [
    "### data：1489358 rows × 183 columns"
   ]
  },
  {
   "cell_type": "code",
   "execution_count": 1,
   "metadata": {},
   "outputs": [
    {
     "name": "stderr",
     "output_type": "stream",
     "text": [
      "/Users/sunruoyao/anaconda3/lib/python3.7/site-packages/pandas/compat/_optional.py:138: UserWarning: Pandas requires version '2.7.0' or newer of 'numexpr' (version '2.6.8' currently installed).\n",
      "  warnings.warn(msg, UserWarning)\n",
      "/Users/sunruoyao/anaconda3/lib/python3.7/site-packages/dask/config.py:161: YAMLLoadWarning: calling yaml.load() without Loader=... is deprecated, as the default Loader is unsafe. Please read https://msg.pyyaml.org/load for full details.\n",
      "  data = yaml.load(f.read()) or {}\n",
      "/Users/sunruoyao/anaconda3/lib/python3.7/site-packages/dask/dataframe/utils.py:13: FutureWarning: pandas.util.testing is deprecated. Use the functions in the public API at pandas.testing instead.\n",
      "  import pandas.util.testing as tm\n",
      "/Users/sunruoyao/anaconda3/lib/python3.7/site-packages/distributed/config.py:20: YAMLLoadWarning: calling yaml.load() without Loader=... is deprecated, as the default Loader is unsafe. Please read https://msg.pyyaml.org/load for full details.\n",
      "  defaults = yaml.load(f)\n"
     ]
    }
   ],
   "source": [
    "import lightgbm as lgb\n",
    "import pandas as pd\n",
    "import os\n",
    "from sklearn.utils import resample\n",
    "from sklearn.model_selection import train_test_split\n",
    "from sklearn.metrics import mean_squared_error\n",
    "from sklearn.metrics import accuracy_score\n",
    "from tqdm import tqdm\n",
    "import joblib"
   ]
  },
  {
   "cell_type": "code",
   "execution_count": 52,
   "metadata": {},
   "outputs": [],
   "source": [
    "data = pd.read_csv('marks_output_node/sample_merged.csv',index_col=None)"
   ]
  },
  {
   "cell_type": "code",
   "execution_count": 53,
   "metadata": {},
   "outputs": [
    {
     "data": {
      "text/plain": [
       "0    97493\n",
       "1      412\n",
       "Name: y_label, dtype: int64"
      ]
     },
     "execution_count": 53,
     "metadata": {},
     "output_type": "execute_result"
    }
   ],
   "source": [
    "data['y_label'].value_counts()"
   ]
  },
  {
   "cell_type": "code",
   "execution_count": 54,
   "metadata": {},
   "outputs": [],
   "source": [
    "data.replace('BINARY', 0, inplace=True)"
   ]
  },
  {
   "cell_type": "markdown",
   "metadata": {},
   "source": [
    "### 做一个移窗--"
   ]
  },
  {
   "cell_type": "code",
   "execution_count": 55,
   "metadata": {},
   "outputs": [],
   "source": [
    "# window_data = pd.DataFrame(columns=data.columns)"
   ]
  },
  {
   "cell_type": "code",
   "execution_count": 56,
   "metadata": {},
   "outputs": [],
   "source": [
    "#data = data.astype(float)"
   ]
  },
  {
   "cell_type": "code",
   "execution_count": 57,
   "metadata": {},
   "outputs": [],
   "source": [
    "# window_data = data.apply(calculate_diff)"
   ]
  },
  {
   "cell_type": "code",
   "execution_count": 58,
   "metadata": {},
   "outputs": [],
   "source": [
    "# window_data = window_data.iloc[window_size:]"
   ]
  },
  {
   "cell_type": "code",
   "execution_count": 59,
   "metadata": {},
   "outputs": [],
   "source": [
    "def calculate_diff(column):\n",
    "    #Calculate the differences between each column\n",
    "    return column.diff(periods=window_size)"
   ]
  },
  {
   "cell_type": "code",
   "execution_count": 60,
   "metadata": {},
   "outputs": [],
   "source": [
    "def switch_window(orgin_data,window_size):\n",
    "    window_data = pd.DataFrame(columns=orgin_data.columns)\n",
    "    # Apply the calculate_diff function to each column\n",
    "    window_data = orgin_data.apply(calculate_diff)\n",
    "    window_data = window_data.iloc[window_size:]\n",
    "    return window_data"
   ]
  },
  {
   "cell_type": "code",
   "execution_count": 61,
   "metadata": {},
   "outputs": [],
   "source": [
    "window_size = 10000 #Set the size of window\n",
    "after_window_data = switch_window(data,window_size)"
   ]
  },
  {
   "cell_type": "code",
   "execution_count": 62,
   "metadata": {},
   "outputs": [],
   "source": [
    "total_rows = len(after_window_data)\n",
    "#change_y_lst=[]\n",
    "total_y_lst=[]"
   ]
  },
  {
   "cell_type": "code",
   "execution_count": 63,
   "metadata": {
    "scrolled": true
   },
   "outputs": [
    {
     "name": "stderr",
     "output_type": "stream",
     "text": [
      "100%|██████████| 77906/77906 [00:19<00:00, 4068.48it/s]\n"
     ]
    }
   ],
   "source": [
    "for start_index in tqdm(range(total_rows - window_size + 1)):\n",
    "    end_index = start_index + window_size\n",
    "    sub_df = after_window_data.iloc[start_index:end_index]\n",
    "    #change_y_lst.append(sub_df['y_label'].nunique()) \n",
    "    total_y_lst.append((sub_df[sub_df['y_label'] == 1]['y_label'].count()) / window_size)"
   ]
  },
  {
   "cell_type": "code",
   "execution_count": 64,
   "metadata": {
    "scrolled": true
   },
   "outputs": [
    {
     "name": "stdout",
     "output_type": "stream",
     "text": [
      "77906\n",
      "0.003\n"
     ]
    }
   ],
   "source": [
    "print(len(total_y_lst))\n",
    "print(total_y_lst[157])"
   ]
  },
  {
   "cell_type": "code",
   "execution_count": 65,
   "metadata": {
    "scrolled": true
   },
   "outputs": [
    {
     "data": {
      "image/png": "[encoded data removed]",
      "text/plain": [
       "<Figure size 432x288 with 1 Axes>"
      ]
     },
     "metadata": {
      "needs_background": "light"
     },
     "output_type": "display_data"
    }
   ],
   "source": [
    "import matplotlib.pyplot as plt\n",
    "\n",
    "frequency_list = [total_y_lst] \n",
    " \n",
    "x_values = list(range(1, len(total_y_lst)+1))\n",
    "\n",
    "# Creating Scatter Plots\n",
    "plt.scatter(x_values, frequency_list, marker='o', s=5)  \n",
    "# 'o' denotes the scatterplot, s denotes the size of the points\n",
    "\n",
    "# Add title and tags\n",
    "plt.title('mark_Frequency window=10k')\n",
    "plt.xlabel('Index')\n",
    "plt.ylabel('Frequency')\n",
    "# Save plots\n",
    "plt.savefig('Prob_Xwindow/mark_10k_scatter_plot.png',dpi=300)"
   ]
  },
  {
   "cell_type": "markdown",
   "metadata": {},
   "source": [
    "change_y_lst：改变的次数  \n",
    "total_y_lst：y=1的总数"
   ]
  },
  {
   "cell_type": "markdown",
   "metadata": {},
   "source": [
    "#### window_data : 1489258 rows × 184 columns -- Unnamed: 0\n",
    "\n",
    "#### data：1489358 rows × 183 columns"
   ]
  },
  {
   "cell_type": "code",
   "execution_count": 66,
   "metadata": {},
   "outputs": [],
   "source": [
    "cuted_data = after_window_data.iloc[:len(total_y_lst)].drop(columns=['Unnamed: 0','y_label'])"
   ]
  },
  {
   "cell_type": "markdown",
   "metadata": {},
   "source": [
    "#### cuted_data:1489159 rows × 182 columns"
   ]
  },
  {
   "cell_type": "markdown",
   "metadata": {},
   "source": [
    "### 开始训练！！！！"
   ]
  },
  {
   "cell_type": "code",
   "execution_count": 67,
   "metadata": {},
   "outputs": [],
   "source": [
    "cuted_data['Depth']  = cuted_data['Depth'].astype(int)"
   ]
  },
  {
   "cell_type": "code",
   "execution_count": 68,
   "metadata": {},
   "outputs": [],
   "source": [
    "X_data = cuted_data"
   ]
  },
  {
   "cell_type": "code",
   "execution_count": 69,
   "metadata": {},
   "outputs": [],
   "source": [
    "y_data = pd.DataFrame(total_y_lst,columns=['y_label'])"
   ]
  },
  {
   "cell_type": "code",
   "execution_count": 70,
   "metadata": {},
   "outputs": [],
   "source": [
    "# 划分训练集和测试集\n",
    "X_train, X_test, y_train, y_test = train_test_split(X_data, y_data, test_size=0.25, random_state=42)"
   ]
  },
  {
   "cell_type": "markdown",
   "metadata": {},
   "source": [
    "可怜的上采样"
   ]
  },
  {
   "cell_type": "code",
   "execution_count": 71,
   "metadata": {},
   "outputs": [],
   "source": [
    "# y_train.reset_index(drop=True, inplace=True)\n",
    "# X_train.reset_index(drop=True, inplace=True)\n",
    "\n",
    "# combined_df = pd.concat([X_train, y_train], axis=1)\n",
    "\n",
    "\n",
    "# from sklearn.utils import resample\n",
    "# df_majority = combined_df[combined_df.y_label==0]\n",
    "# df_minority = combined_df[combined_df.y_label==1]\n",
    "\n",
    "# # 上采样少数类\n",
    "# df_minority_upsampled = resample(df_minority, \n",
    "#                                  replace=True,                      # 采样后的样本可以有重复\n",
    "#                                  n_samples=len(df_majority),       # 要匹配的数量\n",
    "#                                  random_state=123)                 # 可复现的随机种子\n",
    "\n",
    "# # 结合多数类和上采样的少数类\n",
    "# df_upsampled = pd.concat([df_majority, df_minority_upsampled])\n",
    "\n",
    "# df_upsampled[['y_label']].value_counts()\n",
    "\n",
    "# X_train_upsampled = df_upsampled.drop(columns=['y_label'])\n",
    "# y_train_upsampled = df_upsampled['y_label']"
   ]
  },
  {
   "cell_type": "code",
   "execution_count": 72,
   "metadata": {},
   "outputs": [],
   "source": [
    "# 创建LightGBM数据集\n",
    "train_data = lgb.Dataset(X_train, label=y_train)\n",
    "test_data = lgb.Dataset(X_test, label=y_test, reference=train_data)"
   ]
  },
  {
   "cell_type": "code",
   "execution_count": 73,
   "metadata": {},
   "outputs": [],
   "source": [
    "import numpy as np"
   ]
  },
  {
   "cell_type": "code",
   "execution_count": 74,
   "metadata": {},
   "outputs": [],
   "source": [
    "# 设置参数\n",
    "params = {\n",
    "    \"objective\": \"regression\",  # 回归任务\n",
    "    \"metric\": \"rmse\",  # 评估指标为均方根误差\n",
    "    \"boosting_type\": \"gbdt\",  # GBDT算法\n",
    "    \"num_leaves\": 31,  # 叶子节点数量\n",
    "    \"learning_rate\": 0.1,  # 学习率\n",
    "    \"early_stopping_rounds\":10,\n",
    "    'max_depth': 4,\n",
    "    \"verbose\": -1  # 关闭详细日志\n",
    "}"
   ]
  },
  {
   "cell_type": "code",
   "execution_count": 75,
   "metadata": {},
   "outputs": [
    {
     "name": "stdout",
     "output_type": "stream",
     "text": [
      "均方根误差 (RMSE): 0.0002516665322925307\n"
     ]
    }
   ],
   "source": [
    "# 训练模型\n",
    "num_round = 100  # 迭代轮数\n",
    "bst = lgb.train(params, train_data, num_round, valid_sets=[test_data])\n",
    "\n",
    "# 进行预测\n",
    "y_pred = bst.predict(X_test, num_iteration=bst.best_iteration)\n",
    "\n",
    "# 评估模型\n",
    "mse = mean_squared_error(y_test, y_pred)\n",
    "rmse = np.sqrt(mse)\n",
    "print(f\"均方根误差 (RMSE): {rmse}\")"
   ]
  },
  {
   "cell_type": "code",
   "execution_count": 76,
   "metadata": {},
   "outputs": [
    {
     "name": "stdout",
     "output_type": "stream",
     "text": [
      "Model saved to marks_model/marks_lgb_10k_window_Regre.pkl\n"
     ]
    }
   ],
   "source": [
    "# 保存模型到文件\n",
    "import joblib\n",
    "model_filename = 'marks_model/marks_lgb_10k_window_Regre.pkl'\n",
    "joblib.dump(bst, model_filename)\n",
    "print(f\"Model saved to {model_filename}\")"
   ]
  },
  {
   "cell_type": "markdown",
   "metadata": {},
   "source": []
  }
 ],
 "metadata": {
  "kernelspec": {
   "display_name": "Python 3",
   "language": "python",
   "name": "python3"
  },
  "language_info": {
   "codemirror_mode": {
    "name": "ipython",
    "version": 3
   },
   "file_extension": ".py",
   "mimetype": "text/x-python",
   "name": "python",
   "nbconvert_exporter": "python",
   "pygments_lexer": "ipython3",
   "version": "3.7.1"
  }
 },
 "nbformat": 4,
 "nbformat_minor": 2
}
