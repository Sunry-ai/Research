{
 "cells": [
  {
   "cell_type": "code",
   "execution_count": 18,
   "metadata": {},
   "outputs": [],
   "source": [
    "from pyscipopt import Model, Eventhdlr, quicksum, SCIP_EVENTTYPE\n",
    "import pyscipopt\n",
    "import sys\n",
    "from tqdm import tqdm\n",
    "import random\n",
    "import pandas as pd"
   ]
  },
  {
   "cell_type": "markdown",
   "metadata": {},
   "source": [
    "由于分支定界法是 SCIP 的默认求解方法，因此不需要额外的设置。"
   ]
  },
  {
   "cell_type": "markdown",
   "metadata": {},
   "source": [
    "## 生成数据的格式：  \n",
    "1. 根据mps的node每个node生成一个对应的csv文件 里面包含变量名称+上界下界+全局上界下界\n",
    "2. 生成一个叫fixedvars的txt文件，如果这个node中有isFeasEQ的量就写进来var.name 如果没有不写==》之后可以merge\n",
    "3. 每个node都生成一个叫BestSolution的csv文件，把每个node的BstSol都写进来\n",
    "4. 每个node都生成一个叫BestValue的csv文件把每个node的solver.getObjVal()都写进来"
   ]
  },
  {
   "cell_type": "markdown",
   "metadata": {},
   "source": [
    "Rins (Reduced Cost Fixing Heuristic)：这是SCIP的一个内置启发式方法，用于固定当前节点的整数变量。它根据变量的减少成本（reduced cost）来选择变量进行固定，以帮助加速求解过程。"
   ]
  },
  {
   "cell_type": "code",
   "execution_count": 29,
   "metadata": {},
   "outputs": [],
   "source": [
    "from pyscipopt import Model, Eventhdlr, SCIP_EVENTTYPE\n",
    "\n",
    "class FixedVarsAtNode(Eventhdlr):\n",
    "    \"\"\"PySCIPOpt Event handler to write fixed vars of each node to a text file.\"\"\"\n",
    "\n",
    "    def __init__(self,random_seed):\n",
    "        \n",
    "        #define the path of file\n",
    "        # self.output_var_info_file = \"var_info/var_info.txt\"\n",
    "        self.output_fixedvar_file = \"fixedvars/fixedvar.txt\"\n",
    "        self.output_BestValue_file = \"BestValue/bestValue.txt\"\n",
    "        self.output_BestSolution_file = \"BestSolution/bestSolution.txt\"\n",
    "        \n",
    "        #others\n",
    "        self.var_info = []\n",
    "        self.last_node_number = -1\n",
    "        self.count=0\n",
    "        self.count_limit=5\n",
    "        \n",
    "        #make random seed\n",
    "        self.random_seed = random_seed\n",
    "        self.random = random.Random(random_seed)\n",
    "\n",
    "    def eventexec(self, event):\n",
    "        if self.count<self.count_limit:\n",
    "            \n",
    "            # 创建一个空的DataFrame\n",
    "            df_var_info = pd.DataFrame(columns=['Var', 'Type', 'LowerBound','UpperBound','GLB','GUB'])\n",
    "            \n",
    "            fixedvars=[]\n",
    "            # get node number\n",
    "            nodenumber = event.getNode().getNumber()\n",
    "        \n",
    "            #use_heuristic\n",
    "            use_heuristic = self.random.choice([True, False])\n",
    "            if use_heuristic:\n",
    "                    # 保存未使用启发式时的目标函数值\n",
    "                    obj_value_no_heuristic = self.model.getObjVal()\n",
    "\n",
    "                    #写入node信息\n",
    "                    self.transvars = self.model.getVars(transformed=True)\n",
    "                    for var in self.transvars:\n",
    "                        var_name = var.name\n",
    "                        Glb = var.getUbGlobal()#获取变量的全局上界\n",
    "                        Gub = var.getLbGlobal()#获取变量的全局下界\n",
    "                        lb = var.getLbLocal()  # 获取变量的局部下界\n",
    "                        ub = var.getUbLocal()  # 获取变量的局部上界\n",
    "                        var_type = var.vtype()\n",
    "                        \n",
    "                        var_info_add_df ={'Var': var_name, 'Type': var_type, 'LowerBound': lb, 'UpperBound': ub, 'GLB':Glb, 'GUB':Gub}\n",
    "                        #append to df_var_info\n",
    "                        df_var_info = df_var_info.append(var_info_add_df, ignore_index=True)\n",
    "                    #输出为csv文件\n",
    "                    file_name='var_info/'+str(self.count) +\"var_info.csv\"\n",
    "                    df_var_info.to_csv(file_name, index=False)\n",
    "\n",
    "                    #使用启发式后取得目标函数值\n",
    "                    rins_heuristic = scip.heuristics.Rins()\n",
    "                    rins_heuristic.execute(self.model)\n",
    "                    \n",
    "                    obj_value_heuristic = self.model.getObjVal()\n",
    "\n",
    "\n",
    "                \n",
    "                    if nodenumber > self.last_node_number:\n",
    "                        self.last_node_number = nodenumber\n",
    "                    else:\n",
    "                        pass\n",
    "            self.count+=1\n",
    "        else:\n",
    "            break\n",
    "\n",
    "            #通过使用 self.model.getVars(transformed=True)，你可以获取包括这些变换后的变量在内的所有变量的列表。\n",
    "            #这些变量是经过模型内部变换后的版本，可能不同于你添加到模型中的原始变量。\n",
    "#             self.transvars = self.model.getVars(transformed=True)\n",
    "#             for var in self.transvars:\n",
    "#                 var_name = var.name\n",
    "#                 Glb = var.getUbGlobal()#获取变量的全局上界\n",
    "#                 Gub = var.getLbGlobal()#获取变量的全局下界\n",
    "#                 lb = var.getLbLocal()  # 获取变量的局部下界\n",
    "#                 ub = var.getUbLocal()  # 获取变量的局部上界\n",
    "#                 var_type = var.vtype()\n",
    "#                 #self.model.getLocalTransEstimate()\n",
    "#                 var_info_innode.append(f\"Var: {var_name},Type:{var_type}, Lower Bound: {lb}, Upper Bound: {ub},Global Lower Bound: {Glb}, Global Upper Bound: {Gub}\")\n",
    "\n",
    "                #var : 这些变量对象通常包含变量的相关信息，例如名称、上界（upper bound）、下界（lower bound）、变量类型（例如整数变量、连续变量等）\n",
    "                #self.transvars 是一个存储在事件处理器对象中的变量，用于保存模型中的所有变量\n",
    "#                 if self.model.isFeasEQ(var.getLbLocal(), var.getUbLocal()):\n",
    "#                     fixedvars.append(var.name)\n",
    "                    ### 根本没进来\n",
    "#             self.write_to_var_info_file(info=var_info_innode)\n",
    "\n",
    "\n",
    "#             nodenumber = event.getNode().getNumber()\n",
    "#             bst = self.model.getBestSol()\n",
    "\n",
    "#             self.var_info.append(f\"Node {nodenumber}: {', '.join(var_info_innode)}\")\n",
    "#             self.var_info.append(f\"Node {nodenumber} : 'BST:{bst}\")\n",
    "\n",
    "            # Update the last node number if it's a new maximum\n",
    "#             if nodenumber > self.last_node_number:\n",
    "#                 self.last_node_number = nodenumber\n",
    "#         else:\n",
    "#             pass\n",
    "#         self.count+=1\n",
    "        \n",
    "            \n",
    "    def write_to_var_info_file(self , info):\n",
    "        # make output file of var_info\n",
    "        file_name=str(self.count) +'-'+ self.output_var_info_file\n",
    "        with open(file_name, \"a\") as file:\n",
    "            file.write(\"\\n\")\n",
    "            file.write(\"\\n\")\n",
    "            file.write(\"Begin-------------\\n\")\n",
    "            file.write(\"\\n\".join(info) + \"\\n\")\n",
    "            file.write(\"Over-------------\\n\")\n",
    "            # Output the last node number\n",
    "            file.write(f\"The last node number is: {self.last_node_number}\")\n",
    "        \n",
    "\n",
    "    def eventinit(self):\n",
    "        self.model.catchEvent(SCIP_EVENTTYPE.NODESOLVED, self)\n",
    "\n",
    "    def eventexit(self):\n",
    "        self.model.dropEvent(SCIP_EVENTTYPE.NODESOLVED, self)\n"
   ]
  },
  {
   "cell_type": "code",
   "execution_count": 30,
   "metadata": {},
   "outputs": [
    {
     "name": "stdout",
     "output_type": "stream",
     "text": [
      "read done\n",
      "optimized\n",
      "No optimal solution found~\n"
     ]
    }
   ],
   "source": [
    "if __name__ == \"__main__\":\n",
    "    # Specify the output file path\n",
    "    #output_var_info_file = \"var_info.txt\"\n",
    "\n",
    "    \n",
    "    test = pyscipopt.scip.Model()\n",
    "    test.readProblem(\"/Users/oukeikou/Desktop/sunruoyao/cmflsp50-24-8-8.mps\")\n",
    "    print(\"read done\")\n",
    "\n",
    "\n",
    "    # Create and add event handler with the specified output file\n",
    "    eventhdlr = FixedVarsAtNode(100)\n",
    "    test.includeEventhdlr(eventhdlr, \"FixedVarsAtNode\", \"Python event handler to write fixed variables after each solved node\")\n",
    "\n",
    "    # Optimize the problem\n",
    "    test.optimize()\n",
    "    print(\"optimized\")\n",
    "    #eventhdlr.write_to_file()\n",
    "\n",
    "    # ... 获取最优解等其他操作 ...\n",
    "    if test.getStatus() == \"optimal\":\n",
    "        # 获取最优解的变量值\n",
    "        optimal_solution = {var.name: test.getVal(var) for var in test.getVars()}\n",
    "\n",
    "        # 输出最优解\n",
    "        print(\"Optimal Solution:\")\n",
    "        for var_name, var_value in optimal_solution.items():\n",
    "            print(f\"{var_name}: {var_value}\")\n",
    "        node_count = test.getNNodes()\n",
    "        print(node_count)\n",
    "\n",
    "    else:\n",
    "            print(\"No optimal solution found~\")\n",
    "\n",
    "    # Free resources\n",
    "    del test\n"
   ]
  },
  {
   "cell_type": "code",
   "execution_count": 3,
   "metadata": {},
   "outputs": [],
   "source": [
    "# if __name__ == \"__main__\":\n",
    "#     # Specify the output file path\n",
    "#     output_file = \"fixed_vars.txt\"\n",
    "\n",
    "#     scip = Model()\n",
    "#     # 创建变量\n",
    "#     x = {}\n",
    "#     for i in range(1, 6):\n",
    "#         x[i] = scip.addVar(f\"x{i}\", vtype=\"INTEGER\")\n",
    "\n",
    "#     # 设置优化目标函数\n",
    "#     scip.setObjective(10 * x[1] + 6 * x[2] + 4 * x[3] + 5 * x[4] + 8 * x[5], sense=\"maximize\")\n",
    "\n",
    "#     # 添加约束\n",
    "#     scip.addCons(2 * x[1] + 2 * x[2] + 6 * x[3] + 8 * x[4] + 5 * x[5] <= 40, name=\"c1\")\n",
    "#     scip.addCons(3 * x[1] + 5 * x[2] + 2 * x[3] + 1 * x[4] + 6 * x[5] <= 55, name=\"c2\")\n",
    "#     scip.addCons(5 * x[1] + 2 * x[2] + 4 * x[3] + 3 * x[4] + 7 * x[5] <= 25, name=\"c3\")\n",
    "\n",
    "\n",
    "\n",
    "#     # Create and add event handler with the specified output file\n",
    "#     eventhdlr = FixedVarsAtNode(output_file)\n",
    "#     scip.includeEventhdlr(eventhdlr, \"FixedVarsAtNode\", \"Python event handler to write fixed variables after each solved node\")\n",
    "\n",
    "#     # Optimize the problem\n",
    "#     scip.optimize()\n",
    "    \n",
    "#     eventhdlr.write_to_file()\n",
    "\n",
    "#     # ... 获取最优解等其他操作 ...\n",
    "#     if scip.getStatus() == \"optimal\":\n",
    "#         # 获取最优解的变量值\n",
    "#         optimal_solution = {var.name: scip.getVal(var) for var in scip.getVars()}\n",
    "\n",
    "#         # 输出最优解\n",
    "#         print(\"Optimal Solution:\")\n",
    "#         for var_name, var_value in optimal_solution.items():\n",
    "#             print(f\"{var_name}: {var_value}\")\n",
    "#         node_count = scip.getNNodes()\n",
    "#         print(node_count)\n",
    "\n",
    "#     else:\n",
    "#             print(\"No optimal solution found~\")\n",
    "\n",
    "#     # Free resources\n",
    "#     del scip\n"
   ]
  },
  {
   "cell_type": "code",
   "execution_count": null,
   "metadata": {},
   "outputs": [],
   "source": [
    "# 打印问题信息，包括问题名称\n",
    "# print(\"约束条件数目:\", test.getNConss())\n",
    "# print(\"变量数目:\", test.getNVars())\n",
    "# print(\"目标函数类型:\", test.getObjectiveSense())\n",
    "# print(\"分支策略:\", test.getParam(\"branching/vanillafullstrong/priority\"))"
   ]
  },
  {
   "cell_type": "code",
   "execution_count": null,
   "metadata": {},
   "outputs": [],
   "source": []
  },
  {
   "cell_type": "code",
   "execution_count": 4,
   "metadata": {},
   "outputs": [],
   "source": [
    "a = random.Random(100)"
   ]
  },
  {
   "cell_type": "code",
   "execution_count": 17,
   "metadata": {},
   "outputs": [
    {
     "data": {
      "text/plain": [
       "False"
      ]
     },
     "execution_count": 17,
     "metadata": {},
     "output_type": "execute_result"
    }
   ],
   "source": [
    "use_heuristic = a.choice([True, False])\n",
    "use_heuristic"
   ]
  },
  {
   "cell_type": "code",
   "execution_count": 16,
   "metadata": {},
   "outputs": [
    {
     "data": {
      "text/plain": [
       "True"
      ]
     },
     "execution_count": 16,
     "metadata": {},
     "output_type": "execute_result"
    }
   ],
   "source": [
    "use_heuristic"
   ]
  },
  {
   "cell_type": "code",
   "execution_count": null,
   "metadata": {},
   "outputs": [],
   "source": []
  }
 ],
 "metadata": {
  "kernelspec": {
   "display_name": "Python 3 (ipykernel)",
   "language": "python",
   "name": "python3"
  },
  "language_info": {
   "codemirror_mode": {
    "name": "ipython",
    "version": 3
   },
   "file_extension": ".py",
   "mimetype": "text/x-python",
   "name": "python",
   "nbconvert_exporter": "python",
   "pygments_lexer": "ipython3",
   "version": "3.9.6"
  }
 },
 "nbformat": 4,
 "nbformat_minor": 4
}
