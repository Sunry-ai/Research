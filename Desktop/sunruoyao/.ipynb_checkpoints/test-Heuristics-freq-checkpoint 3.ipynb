{
 "cells": [
  {
   "cell_type": "code",
   "execution_count": 1,
   "id": "26e7fee4-129d-4704-a500-9f8d9cc0fa35",
   "metadata": {},
   "outputs": [],
   "source": [
    "import pyscipopt as scip\n",
    "import time\n"
   ]
  },
  {
   "cell_type": "code",
   "execution_count": 2,
   "id": "bb16ee5e-621d-4685-b857-06c154fc02cb",
   "metadata": {},
   "outputs": [],
   "source": [
    "from pyscipopt import Model, Eventhdlr, SCIP_EVENTTYPE\n",
    "\n",
    "class FixedVarsAtNode(Eventhdlr):\n",
    "    \"\"\"PySCIPOpt Event handler to write fixed vars of each node to a text file.\"\"\"\n",
    "\n",
    "    def __init__(self):\n",
    "        #define the path of file\n",
    "        # self.output_var_info_file = \"var_info/var_info.txt\"\n",
    "        self.node_count = 0\n",
    "        \n",
    "    def exentexec(self,event):\n",
    "        # Check if the current node is the first or second node\n",
    "        if self.node_count <= 10000:\n",
    "            self.model.setIntParam(\"heuristics/rins/freq\",3)\n",
    "            # model.includeHeur(rins_heuristic, \"Rins\", \"Rins heuristic\", \"Y\", timingmask=scip.SCIP_HEURTIMING.BEFORENODE)\n",
    "        else:\n",
    "            # Remove the Rins heuristic for subsequent nodes\n",
    "            self.model.setIntParam(\"heuristics/rins/freq\",5)\n",
    "        self.node_count += 1\n",
    "\n",
    "    def write(self):\n",
    "        with open(\"mark_freq_3to5_1w_node.txt\", \"w\") as f:\n",
    "            f.write(f\"Objective value: {self.model.getObjVal()}\\n\")\n",
    "            f.write(f\"node_count_fun: {self.node_count}\\n\")\n",
    "\n",
    "    def eventinit(self):\n",
    "        self.model.catchEvent(SCIP_EVENTTYPE.NODESOLVED, self)\n",
    "\n",
    "    def eventexit(self):\n",
    "        self.model.dropEvent(SCIP_EVENTTYPE.NODESOLVED, self)\n"
   ]
  },
  {
   "cell_type": "code",
   "execution_count": 3,
   "id": "debc7bbc-db87-4f2f-9c1e-6ce4ad8d5d12",
   "metadata": {},
   "outputs": [
    {
     "name": "stdout",
     "output_type": "stream",
     "text": [
      "read done---\n",
      "original problem has 34 variables (30 bin, 0 int, 0 impl, 4 cont) and 4 constraints\n"
     ]
    },
    {
     "ename": "AttributeError",
     "evalue": "'FixedVarsAtNode' object has no attribute 'node_count'",
     "output_type": "error",
     "traceback": [
      "\u001b[0;31m---------------------------------------------------------------------------\u001b[0m",
      "\u001b[0;31mAttributeError\u001b[0m                            Traceback (most recent call last)",
      "\u001b[0;32m/var/folders/ld/_0mnv9fn0mggqhhlmyx266v80000gn/T/ipykernel_17832/4101040674.py\u001b[0m in \u001b[0;36m<module>\u001b[0;34m\u001b[0m\n\u001b[1;32m     17\u001b[0m     \u001b[0;31m#exit_loop = False\u001b[0m\u001b[0;34m\u001b[0m\u001b[0;34m\u001b[0m\u001b[0;34m\u001b[0m\u001b[0m\n\u001b[1;32m     18\u001b[0m \u001b[0;34m\u001b[0m\u001b[0m\n\u001b[0;32m---> 19\u001b[0;31m     \u001b[0meventhdlr\u001b[0m \u001b[0;34m=\u001b[0m \u001b[0mFixedVarsAtNode\u001b[0m\u001b[0;34m(\u001b[0m\u001b[0;34m)\u001b[0m\u001b[0;34m\u001b[0m\u001b[0;34m\u001b[0m\u001b[0m\n\u001b[0m\u001b[1;32m     20\u001b[0m     \u001b[0mmodel\u001b[0m\u001b[0;34m.\u001b[0m\u001b[0mincludeEventhdlr\u001b[0m\u001b[0;34m(\u001b[0m\u001b[0meventhdlr\u001b[0m\u001b[0;34m,\u001b[0m \u001b[0;34m\"FixedVarsAtNode\"\u001b[0m\u001b[0;34m,\u001b[0m \u001b[0;34m\"Python event handler to write fixed variables after each solved node\"\u001b[0m\u001b[0;34m)\u001b[0m\u001b[0;34m\u001b[0m\u001b[0;34m\u001b[0m\u001b[0m\n\u001b[1;32m     21\u001b[0m \u001b[0;34m\u001b[0m\u001b[0m\n",
      "\u001b[0;32m/var/folders/ld/_0mnv9fn0mggqhhlmyx266v80000gn/T/ipykernel_17832/3015347317.py\u001b[0m in \u001b[0;36m__init__\u001b[0;34m(self)\u001b[0m\n\u001b[1;32m      7\u001b[0m         \u001b[0;31m#define the path of file\u001b[0m\u001b[0;34m\u001b[0m\u001b[0;34m\u001b[0m\u001b[0;34m\u001b[0m\u001b[0m\n\u001b[1;32m      8\u001b[0m         \u001b[0;31m# self.output_var_info_file = \"var_info/var_info.txt\"\u001b[0m\u001b[0;34m\u001b[0m\u001b[0;34m\u001b[0m\u001b[0;34m\u001b[0m\u001b[0m\n\u001b[0;32m----> 9\u001b[0;31m         \u001b[0mself\u001b[0m\u001b[0;34m.\u001b[0m\u001b[0mnode_count\u001b[0m \u001b[0;34m==\u001b[0m \u001b[0;36m0\u001b[0m\u001b[0;34m\u001b[0m\u001b[0;34m\u001b[0m\u001b[0m\n\u001b[0m\u001b[1;32m     10\u001b[0m \u001b[0;34m\u001b[0m\u001b[0m\n\u001b[1;32m     11\u001b[0m     \u001b[0;32mdef\u001b[0m \u001b[0mexentexec\u001b[0m\u001b[0;34m(\u001b[0m\u001b[0mself\u001b[0m\u001b[0;34m,\u001b[0m\u001b[0mevent\u001b[0m\u001b[0;34m)\u001b[0m\u001b[0;34m:\u001b[0m\u001b[0;34m\u001b[0m\u001b[0;34m\u001b[0m\u001b[0m\n",
      "\u001b[0;31mAttributeError\u001b[0m: 'FixedVarsAtNode' object has no attribute 'node_count'"
     ]
    }
   ],
   "source": [
    "if __name__ == \"__main__\":\n",
    "\n",
    "        # 创建SCIP模型\n",
    "    model = scip.Model()\n",
    "\n",
    "    # 添加变量和约束等问题数据（省略具体内容）\n",
    "    #model.readProblem(\"/Users/oukeikou/Desktop/sunruoyao/easy-sample/gen-ip002.mps\")\n",
    "    model.readProblem(\"/Users/oukeikou/Desktop/sunruoyao/easy-sample/markshare_4_0.mps\")\n",
    "\n",
    "    print(\"read done---\")\n",
    "    start_time = time.time()\n",
    "\n",
    "    model.setIntParam(\"heuristics/rins/freq\",3)\n",
    "    # 求解问题\n",
    "    # Create and add event handler with the specified output file\n",
    "\n",
    "    #exit_loop = False\n",
    "\n",
    "    eventhdlr = FixedVarsAtNode()\n",
    "    model.includeEventhdlr(eventhdlr, \"FixedVarsAtNode\", \"Python event handler to write fixed variables after each solved node\")\n",
    "\n",
    "    model.optimize()\n",
    "\n",
    "    eventhdlr.write()\n",
    "\n",
    "    # 记录结束时间\n",
    "    end_time = time.time()\n",
    "\n",
    "    # 计算处理时间\n",
    "    elapsed_time = end_time - start_time\n",
    "\n",
    "    # 检查求解状态\n",
    "    if model.getStatus() == \"optimal\":\n",
    "        # 获取最优解的变量值\n",
    "        # optimal_solution = {var.name: model.getVal(var) for var in model.getVars()}\n",
    "        # 输出最优解\n",
    "\n",
    "        # 获取节点数\n",
    "        node_count_fun = model.getNNodes()\n",
    "\n",
    "        eventhdlr.write()\n",
    "\n",
    "        with open(\"mark_freq_3to5_1w_node.txt\", \"w\") as f:\n",
    "            f.write(\"Optimal Solution Found:\\n\")\n",
    "            f.write(f\"node_count_fun: {node_count_fun}\\n\")\n",
    "            f.write(f\"time: {elapsed_time}\\n\")\n",
    "        del model\n",
    "\n",
    "    "
   ]
  },
  {
   "cell_type": "code",
   "execution_count": null,
   "id": "9e56c58a-e617-41b1-b54b-15981c67ad70",
   "metadata": {},
   "outputs": [],
   "source": [
    "\n",
    "# while not exit_loop:\n",
    "#     # 优化模型\n",
    "    \n",
    "\n",
    "\n",
    "#     model.optimize()\n",
    "    \n",
    "#     # 继续搜索下一个节点\n",
    "#     node_count += 1\n",
    "    \n",
    "#     if model.getStatus() == \"optimal\":\n",
    "#         exit_loop = True\n"
   ]
  }
 ],
 "metadata": {
  "kernelspec": {
   "display_name": "Python 3 (ipykernel)",
   "language": "python",
   "name": "python3"
  },
  "language_info": {
   "codemirror_mode": {
    "name": "ipython",
    "version": 3
   },
   "file_extension": ".py",
   "mimetype": "text/x-python",
   "name": "python",
   "nbconvert_exporter": "python",
   "pygments_lexer": "ipython3",
   "version": "3.9.6"
  }
 },
 "nbformat": 4,
 "nbformat_minor": 5
}
