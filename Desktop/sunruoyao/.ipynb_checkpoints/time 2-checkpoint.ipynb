{
 "cells": [
  {
   "cell_type": "code",
   "execution_count": 1,
   "id": "acaf60f5-126f-434d-9635-157dfcaf8083",
   "metadata": {},
   "outputs": [],
   "source": [
    "import pyscipopt as scip\n",
    "import time\n",
    "from pyscipopt import Model, Eventhdlr, SCIP_EVENTTYPE\n",
    "#----------import--------------\n",
    "\n",
    "class ShowInfo(Eventhdlr):\n",
    "    #ここでは、'includeEventhdlr' を介して出力パネルで求解プロセスの進捗状況を確認できるため、待機する求解時間を判断するのがより便利になります。\n",
    "    def __init__(self):\n",
    "        self.node_count = 0\n",
    "\n",
    "    def eventinit(self):\n",
    "        self.model.catchEvent(SCIP_EVENTTYPE.NODESOLVED, self)\n",
    "\n",
    "    def eventexit(self):\n",
    "        self.model.dropEvent(SCIP_EVENTTYPE.NODESOLVED, self)"
   ]
  },
  {
   "cell_type": "code",
   "execution_count": null,
   "id": "ec0ca825-4eb5-416f-b3e6-35c57368eeaf",
   "metadata": {},
   "outputs": [],
   "source": [
    "if __name__ == \"__main__\":\n",
    "\n",
    "    # make a SCIP model\n",
    "    model = scip.Model()\n",
    "\n",
    "    # read .mps file\n",
    "    #model.readProblem(\"/Users/oukeikou/Desktop/sunruoyao/easy-sample/gen-ip002.mps\")\n",
    "    model.readProblem(\"DATA/easy-sample/gen-ip054.mps\")\n",
    "\n",
    "    print(\"read done---\")\n",
    "    # start measuring time\n",
    "\n",
    "\n",
    "    # set freq\n",
    "    model.setIntParam(\"heuristics/rins/freq\",0)\n",
    "\n",
    "\n",
    "    eventhdlr = ShowInfo()\n",
    "    model.includeEventhdlr(eventhdlr, \"ShowInfo\", \"PySCIPOpt Event handler to show the solving process in the output panel \")\n",
    "\n",
    "    model.optimize()"
   ]
  }
 ],
 "metadata": {
  "kernelspec": {
   "display_name": "Python 3 (ipykernel)",
   "language": "python",
   "name": "python3"
  },
  "language_info": {
   "codemirror_mode": {
    "name": "ipython",
    "version": 3
   },
   "file_extension": ".py",
   "mimetype": "text/x-python",
   "name": "python",
   "nbconvert_exporter": "python",
   "pygments_lexer": "ipython3",
   "version": "3.9.6"
  }
 },
 "nbformat": 4,
 "nbformat_minor": 5
}
