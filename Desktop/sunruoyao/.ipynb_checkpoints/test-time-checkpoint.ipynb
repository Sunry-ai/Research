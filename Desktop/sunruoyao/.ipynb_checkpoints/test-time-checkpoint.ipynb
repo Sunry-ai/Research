{
 "cells": [
  {
   "cell_type": "code",
   "execution_count": null,
   "id": "beee1c2a-ca90-43c4-bd6d-9062d18ac225",
   "metadata": {},
   "outputs": [],
   "source": [
    "import pyscipopt as scip\n",
    "import time\n",
    "from pyscipopt import Model, Eventhdlr, SCIP_EVENTTYPE\n",
    "#----------import--------------\n",
    "class ShowInfo(Eventhdlr):\n",
    "    \"\"\"PySCIPOpt Event handler to show the solving process in the output panel \"\"\"\n",
    "    #ここでは、'includeEventhdlr' を介して出力パネルで求解プロセスの進捗状況を確認できるため、待機する求解時間を判断するのがより便利になります。\n",
    "\n",
    "    def __init__(self):\n",
    "        self.node_count = 0\n",
    "\n",
    "    def eventinit(self):\n",
    "        self.model.catchEvent(SCIP_EVENTTYPE.NODESOLVED, self)\n",
    "\n",
    "    def eventexit(self):\n",
    "        self.model.dropEvent(SCIP_EVENTTYPE.NODESOLVED, self)"
   ]
  },
  {
   "cell_type": "code",
   "execution_count": null,
   "id": "6a368dc4-c79c-432b-8639-e7a6dcff7c77",
   "metadata": {},
   "outputs": [],
   "source": [
    "#-------------main-------------\n",
    "if __name__ == \"__main__\":\n",
    "\n",
    "    # make a SCIP model\n",
    "    model = scip.Model()\n",
    "\n",
    "    # read .mps file\n",
    "    #model.readProblem(\"/Users/oukeikou/Desktop/sunruoyao/easy-sample/gen-ip002.mps\")\n",
    "    model.readProblem(\"/Users/oukeikou/Desktop/sunruoyao/DATA/easy-sample/gen-ip002.mps\")\n",
    "\n",
    "    print(\"read done---\")\n",
    "    # start measuring time\n",
    "    start_time = time.time()\n",
    "\n",
    "    # set freq\n",
    "    model.setIntParam(\"heuristics/rins/freq\",5)\n",
    "\n",
    "\n",
    "    eventhdlr = ShowInfo()\n",
    "    model.includeEventhdlr(eventhdlr, \"ShowInfo\", \"PySCIPOpt Event handler to show the solving process in the output panel \")\n",
    "\n",
    "    model.optimize()"
   ]
  }
 ],
 "metadata": {
  "kernelspec": {
   "display_name": "Python 3 (ipykernel)",
   "language": "python",
   "name": "python3"
  },
  "language_info": {
   "codemirror_mode": {
    "name": "ipython",
    "version": 3
   },
   "file_extension": ".py",
   "mimetype": "text/x-python",
   "name": "python",
   "nbconvert_exporter": "python",
   "pygments_lexer": "ipython3",
   "version": "3.9.6"
  }
 },
 "nbformat": 4,
 "nbformat_minor": 5
}
